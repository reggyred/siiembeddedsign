{
 "cells": [
  {
   "cell_type": "code",
   "execution_count": 1,
   "metadata": {},
   "outputs": [
    {
     "ename": "IndentationError",
     "evalue": "expected an indented block (led_driver.py, line 27)",
     "output_type": "error",
     "traceback": [
      "Traceback \u001b[1;36m(most recent call last)\u001b[0m:\n",
      "  File \u001b[0;32m\"c:\\python37-32\\lib\\site-packages\\IPython\\core\\interactiveshell.py\"\u001b[0m, line \u001b[0;32m3296\u001b[0m, in \u001b[0;35mrun_code\u001b[0m\n    exec(code_obj, self.user_global_ns, self.user_ns)\n",
      "\u001b[1;36m  File \u001b[1;32m\"<ipython-input-1-12eee8e8e36e>\"\u001b[1;36m, line \u001b[1;32m1\u001b[1;36m, in \u001b[1;35m<module>\u001b[1;36m\u001b[0m\n\u001b[1;33m    import embled.led_driver as led\u001b[0m\n",
      "\u001b[1;36m  File \u001b[1;32m\"D:\\SII\\siiembeddedsign\\src\\embled\\led_driver.py\"\u001b[1;36m, line \u001b[1;32m27\u001b[0m\n\u001b[1;33m    def transmit(self, data):\u001b[0m\n\u001b[1;37m    ^\u001b[0m\n\u001b[1;31mIndentationError\u001b[0m\u001b[1;31m:\u001b[0m expected an indented block\n"
     ]
    }
   ],
   "source": [
    "import embled.led_driver as led"
   ]
  },
  {
   "cell_type": "code",
   "execution_count": 2,
   "metadata": {},
   "outputs": [],
   "source": [
    "class RGB:\n",
    "    r = 0\n",
    "    g = 0\n",
    "    b = 0"
   ]
  },
  {
   "cell_type": "code",
   "execution_count": 3,
   "metadata": {},
   "outputs": [],
   "source": [
    "x = RGB()"
   ]
  },
  {
   "cell_type": "code",
   "execution_count": 4,
   "metadata": {},
   "outputs": [
    {
     "data": {
      "text/plain": [
       "0"
      ]
     },
     "execution_count": 4,
     "metadata": {},
     "output_type": "execute_result"
    }
   ],
   "source": [
    "x.r"
   ]
  },
  {
   "cell_type": "code",
   "execution_count": 5,
   "metadata": {},
   "outputs": [],
   "source": [
    "from bitstring import BitArray"
   ]
  },
  {
   "cell_type": "code",
   "execution_count": 13,
   "metadata": {},
   "outputs": [],
   "source": [
    "d = BitArray(uint=255, length=8)"
   ]
  },
  {
   "cell_type": "code",
   "execution_count": 14,
   "metadata": {},
   "outputs": [
    {
     "data": {
      "text/plain": [
       "BitArray('0xff')"
      ]
     },
     "execution_count": 14,
     "metadata": {},
     "output_type": "execute_result"
    }
   ],
   "source": [
    "d"
   ]
  },
  {
   "cell_type": "code",
   "execution_count": 15,
   "metadata": {},
   "outputs": [
    {
     "name": "stdout",
     "output_type": "stream",
     "text": [
      "True\n",
      "True\n",
      "True\n",
      "True\n",
      "True\n",
      "True\n",
      "True\n",
      "True\n"
     ]
    }
   ],
   "source": [
    "for bit in d:\n",
    "    print(bit)"
   ]
  },
  {
   "cell_type": "code",
   "execution_count": 17,
   "metadata": {},
   "outputs": [
    {
     "name": "stdout",
     "output_type": "stream",
     "text": [
      "127\n"
     ]
    }
   ],
   "source": [
    "val = 0.5\n",
    "print(int(val*255))"
   ]
  },
  {
   "cell_type": "code",
   "execution_count": 20,
   "metadata": {},
   "outputs": [
    {
     "data": {
      "text/plain": [
       "0.4980392156862745"
      ]
     },
     "execution_count": 20,
     "metadata": {},
     "output_type": "execute_result"
    }
   ],
   "source": [
    "(127/255.0)"
   ]
  },
  {
   "cell_type": "code",
   "execution_count": 21,
   "metadata": {},
   "outputs": [],
   "source": [
    "import numpy"
   ]
  },
  {
   "cell_type": "code",
   "execution_count": 27,
   "metadata": {},
   "outputs": [
    {
     "data": {
      "text/plain": [
       "array([0.        , 0.08333333, 0.16666667, 0.25      , 0.33333333,\n",
       "       0.41666667, 0.5       , 0.58333333, 0.66666667, 0.75      ,\n",
       "       0.83333333, 0.91666667])"
      ]
     },
     "execution_count": 27,
     "metadata": {},
     "output_type": "execute_result"
    }
   ],
   "source": [
    "numpy.arange(0, 1.0, 1.0/12)"
   ]
  },
  {
   "cell_type": "code",
   "execution_count": 28,
   "metadata": {},
   "outputs": [],
   "source": [
    "from colorsys import hsv_to_rgb"
   ]
  },
  {
   "cell_type": "code",
   "execution_count": 29,
   "metadata": {},
   "outputs": [],
   "source": [
    "r, g, b = hsv_to_rgb(0.2, 1.0, 0.5)"
   ]
  },
  {
   "cell_type": "code",
   "execution_count": 32,
   "metadata": {},
   "outputs": [
    {
     "data": {
      "text/plain": [
       "0.0"
      ]
     },
     "execution_count": 32,
     "metadata": {},
     "output_type": "execute_result"
    }
   ],
   "source": [
    "b"
   ]
  },
  {
   "cell_type": "code",
   "execution_count": 42,
   "metadata": {},
   "outputs": [],
   "source": [
    "class RGB:\n",
    "    def __init__(self, red=0, green=0, blue=0):\n",
    "        self.r = 0\n",
    "        self.g = 0\n",
    "        self.b = 0\n",
    "        self.red = red\n",
    "        self.green = green\n",
    "        self.blue = blue\n",
    "\n",
    "    @property\n",
    "    def red(self):\n",
    "        return self.r\n",
    "\n",
    "    @red.setter\n",
    "    def red(self, value):\n",
    "        if isinstance(value, int):\n",
    "            if 0 <= value <= 255:\n",
    "                self.r = value\n",
    "            else:\n",
    "                raise ValueError(\"Int value of R is out of range 0-255: {0}\".format(value))\n",
    "        elif isinstance(value, float):\n",
    "            if 0.0 <= value <= 1.0:\n",
    "                self.r = int(value*255)\n",
    "            else:\n",
    "                raise ValueError(\"Float value of R is out of range 0.0-1.0: {0}\".format(value))\n",
    "        else:\n",
    "            raise TypeError(\"Color must be int or float\")\n",
    "\n",
    "    @property\n",
    "    def red_float(self):\n",
    "        return self.r/255.0\n",
    "\n",
    "    @property\n",
    "    def green(self):\n",
    "        return self.g\n",
    "\n",
    "    @green.setter\n",
    "    def green(self, value):\n",
    "        if isinstance(value, int):\n",
    "            if 0 <= value <= 255:\n",
    "                self.g = value\n",
    "            else:\n",
    "                raise ValueError(\"Int value of G is out of range 0-255: {0}\".format(value))\n",
    "        elif isinstance(value, float):\n",
    "            if 0.0 <= value <= 1.0:\n",
    "                self.g = int(value*255)\n",
    "            else:\n",
    "                raise ValueError(\"Float value of G is out of range 0.0-1.0: {0}\".format(value))\n",
    "        else:\n",
    "            raise TypeError(\"Color must be int or float\")\n",
    "\n",
    "    @property\n",
    "    def green_float(self):\n",
    "        return self.g/255.0\n",
    "\n",
    "    @property\n",
    "    def blue(self):\n",
    "        return self.b\n",
    "\n",
    "    @blue.setter\n",
    "    def blue(self, value):\n",
    "        if isinstance(value, int):\n",
    "            if 0 <= value <= 255:\n",
    "                self.b = value\n",
    "            else:\n",
    "                raise ValueError(\"Int value of B is out of range 0-255: {0}\".format(value))\n",
    "        elif isinstance(value, float):\n",
    "            if 0.0 <= value <= 1.0:\n",
    "                self.b = int(value*255)\n",
    "            else:\n",
    "                raise ValueError(\"Float value of B is out of range 0.0-1.0: {0}\".format(value))\n",
    "        else:\n",
    "            raise TypeError(\"Color must be int or float\")\n",
    "\n",
    "    @property\n",
    "    def blue_float(self):\n",
    "        return self.b/255.0\n",
    "\n",
    "\n"
   ]
  },
  {
   "cell_type": "code",
   "execution_count": 43,
   "metadata": {},
   "outputs": [],
   "source": [
    "point1 = RGB(127, 0, 0)\n",
    "point2 = RGB(0, 127, 0)\n",
    "point3 = RGB(0, 0, 127)\n",
    "blank = RGB(0, 0, 0)\n",
    "source = [point1, point2, point3, blank, blank, blank, blank, blank, blank, blank, blank, blank]"
   ]
  },
  {
   "cell_type": "code",
   "execution_count": 44,
   "metadata": {},
   "outputs": [
    {
     "data": {
      "text/plain": [
       "[<__main__.RGB at 0x758e2f0>,\n",
       " <__main__.RGB at 0x758e190>,\n",
       " <__main__.RGB at 0x758e290>,\n",
       " <__main__.RGB at 0x758e070>,\n",
       " <__main__.RGB at 0x758e070>,\n",
       " <__main__.RGB at 0x758e070>,\n",
       " <__main__.RGB at 0x758e070>,\n",
       " <__main__.RGB at 0x758e070>,\n",
       " <__main__.RGB at 0x758e070>,\n",
       " <__main__.RGB at 0x758e070>,\n",
       " <__main__.RGB at 0x758e070>,\n",
       " <__main__.RGB at 0x758e070>]"
      ]
     },
     "execution_count": 44,
     "metadata": {},
     "output_type": "execute_result"
    }
   ],
   "source": [
    "source"
   ]
  },
  {
   "cell_type": "code",
   "execution_count": 52,
   "metadata": {},
   "outputs": [],
   "source": [
    "data = []"
   ]
  },
  {
   "cell_type": "code",
   "execution_count": 53,
   "metadata": {},
   "outputs": [],
   "source": [
    "i=1"
   ]
  },
  {
   "cell_type": "code",
   "execution_count": 54,
   "metadata": {},
   "outputs": [],
   "source": [
    "data.extend(source[i:12])\n",
    "data.extend(source[0:i])"
   ]
  },
  {
   "cell_type": "code",
   "execution_count": 55,
   "metadata": {},
   "outputs": [
    {
     "data": {
      "text/plain": [
       "[<__main__.RGB at 0x758e190>,\n",
       " <__main__.RGB at 0x758e290>,\n",
       " <__main__.RGB at 0x758e070>,\n",
       " <__main__.RGB at 0x758e070>,\n",
       " <__main__.RGB at 0x758e070>,\n",
       " <__main__.RGB at 0x758e070>,\n",
       " <__main__.RGB at 0x758e070>,\n",
       " <__main__.RGB at 0x758e070>,\n",
       " <__main__.RGB at 0x758e070>,\n",
       " <__main__.RGB at 0x758e070>,\n",
       " <__main__.RGB at 0x758e070>,\n",
       " <__main__.RGB at 0x758e2f0>]"
      ]
     },
     "execution_count": 55,
     "metadata": {},
     "output_type": "execute_result"
    }
   ],
   "source": [
    "data"
   ]
  },
  {
   "cell_type": "code",
   "execution_count": null,
   "metadata": {},
   "outputs": [],
   "source": []
  }
 ],
 "metadata": {
  "kernelspec": {
   "display_name": "Python 3",
   "language": "python",
   "name": "python3"
  },
  "language_info": {
   "codemirror_mode": {
    "name": "ipython",
    "version": 3
   },
   "file_extension": ".py",
   "mimetype": "text/x-python",
   "name": "python",
   "nbconvert_exporter": "python",
   "pygments_lexer": "ipython3",
   "version": "3.7.0"
  }
 },
 "nbformat": 4,
 "nbformat_minor": 2
}
